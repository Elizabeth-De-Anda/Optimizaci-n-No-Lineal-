{
  "nbformat": 4,
  "nbformat_minor": 0,
  "metadata": {
    "colab": {
      "provenance": [],
      "authorship_tag": "ABX9TyOrxA/Ya94elZLTUIKC/879",
      "include_colab_link": true
    },
    "kernelspec": {
      "name": "python3",
      "display_name": "Python 3"
    },
    "language_info": {
      "name": "python"
    }
  },
  "cells": [
    {
      "cell_type": "markdown",
      "metadata": {
        "id": "view-in-github",
        "colab_type": "text"
      },
      "source": [
        "<a href=\"https://colab.research.google.com/github/Elizabeth-De-Anda/Optimizaci-n-No-Lineal-/blob/main/M%C3%A9todo%20de%20Random%20Jumping.ipynb\" target=\"_parent\"><img src=\"https://colab.research.google.com/assets/colab-badge.svg\" alt=\"Open In Colab\"/></a>"
      ]
    },
    {
      "cell_type": "markdown",
      "source": [
        "### Ejercicio 2.17 con el Método de Búsqueda Aleatoria"
      ],
      "metadata": {
        "id": "15dMVBpqyFIw"
      }
    },
    {
      "cell_type": "code",
      "execution_count": 2,
      "metadata": {
        "colab": {
          "base_uri": "https://localhost:8080/"
        },
        "id": "L6qU91NGv5u_",
        "outputId": "08256911-a87b-44b8-819f-9291d8f081b8"
      },
      "outputs": [
        {
          "output_type": "stream",
          "name": "stdout",
          "text": [
            "Mejor solución encontrada:\n",
            "X = [-1.0184297173024817, 1.552261612742674]\n",
            "f(X) = -1.2485157483710747\n"
          ]
        }
      ],
      "source": [
        "import numpy as np\n",
        "\n",
        "def f(X):\n",
        "    x1, x2 = X\n",
        "    return x1 - x2 + 2*x1**2 + 2*x1*x2 + x2**2\n",
        "\n",
        "\n",
        "n_variables = 2\n",
        "limites = [(-10, 10), (-10, 10)]\n",
        "max_evaluaciones = 10000\n",
        "\n",
        "\n",
        "mejor_X = None\n",
        "mejor_valor = float('inf')\n",
        "\n",
        "# Método de búsqueda aleatoria\n",
        "np.random.seed(42)\n",
        "for _ in range(max_evaluaciones):\n",
        "\n",
        "    X = [limites[i][0] + np.random.random() * (limites[i][1] - limites[i][0])\n",
        "         for i in range(n_variables)]\n",
        "\n",
        "    # Evaluar la función\n",
        "    valor_actual = f(X)\n",
        "\n",
        "\n",
        "    if valor_actual < mejor_valor:\n",
        "        mejor_valor = valor_actual\n",
        "        mejor_X = X\n",
        "\n",
        "\n",
        "print(\"Mejor solución encontrada:\")\n",
        "print(f\"X = {mejor_X}\")\n",
        "print(f\"f(X) = {mejor_valor}\")\n",
        "\n"
      ]
    },
    {
      "cell_type": "markdown",
      "source": [
        "La solución analitica se hizo resolviendo el sistema de ecuaciones $$∇f(X) = 0$$ , lo que da:\n",
        "$$∂f/∂x₁ = 1 + 4x₁ + 2x₂ = 0$$\n",
        "$$∂f/∂x₂ = -1 + 2x₁ + 2x₂ = 0$$\n",
        "Resolviendo este sistema se obtiene la solución $$ x₁ = -1, x₂ = 1.5 $$\n"
      ],
      "metadata": {
        "id": "aNooe61-ymWQ"
      }
    },
    {
      "cell_type": "code",
      "source": [
        "# Evaluación de la solución teórica para comparación\n",
        "X_teorico = [-1, 1.5]\n",
        "print(\"\\nSolución teórica para comparación:\")\n",
        "print(f\"X = {X_teorico}\")\n",
        "print(f\"f(X) = {f(X_teorico)}\")"
      ],
      "metadata": {
        "colab": {
          "base_uri": "https://localhost:8080/"
        },
        "id": "P07r8pNWymvI",
        "outputId": "28039c86-f0c3-4314-90e1-0c29eed0607b"
      },
      "execution_count": 3,
      "outputs": [
        {
          "output_type": "stream",
          "name": "stdout",
          "text": [
            "\n",
            "Solución teórica para comparación:\n",
            "X = [-1, 1.5]\n",
            "f(X) = -1.25\n"
          ]
        }
      ]
    }
  ]
}