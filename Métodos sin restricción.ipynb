{
  "nbformat": 4,
  "nbformat_minor": 0,
  "metadata": {
    "colab": {
      "provenance": []
    },
    "kernelspec": {
      "name": "python3",
      "display_name": "Python 3"
    },
    "language_info": {
      "name": "python"
    }
  },
  "cells": [
    {
      "cell_type": "markdown",
      "source": [
        "### 1.- Método del descenso acelerado"
      ],
      "metadata": {
        "id": "OO8pWZ2zsWKf"
      }
    },
    {
      "cell_type": "code",
      "execution_count": 1,
      "metadata": {
        "id": "_Xm5rGqUsEto"
      },
      "outputs": [],
      "source": [
        "import numpy as np\n",
        "\n",
        "def descenso_acelerado(f, grad_f, x0, alpha=0.01, beta=0.9, max_iter=1000, tol=1e-6):\n",
        "    x = x0.copy()\n",
        "    v = np.zeros_like(x0)\n",
        "    history = [x0.copy()]\n",
        "\n",
        "    for k in range(max_iter):\n",
        "        x_nesterov = x + beta * v\n",
        "        grad = grad_f(x_nesterov)\n",
        "        v_new = beta * v - alpha * grad\n",
        "        x_new = x + v_new\n",
        "\n",
        "        history.append(x_new.copy())\n",
        "\n",
        "        if np.linalg.norm(x_new - x) < tol:\n",
        "            break\n",
        "\n",
        "        x = x_new\n",
        "        v = v_new\n",
        "\n",
        "    return x, np.array(history)"
      ]
    },
    {
      "cell_type": "markdown",
      "source": [
        "### 2.- Método de Newton\n"
      ],
      "metadata": {
        "id": "K4oTtY1vs2eO"
      }
    },
    {
      "cell_type": "code",
      "source": [
        "def metodo_newton(f, grad_f, hess_f, x0, max_iter=100, tol=1e-6):\n",
        "    x = x0.copy()\n",
        "    history = [x0.copy()]\n",
        "\n",
        "    for k in range(max_iter):\n",
        "        grad = grad_f(x)\n",
        "        hess = hess_f(x)\n",
        "\n",
        "        d = np.linalg.solve(hess, -grad)\n",
        "\n",
        "        x_new = x + d\n",
        "        history.append(x_new.copy())\n",
        "\n",
        "        if np.linalg.norm(x_new - x) < tol:\n",
        "            break\n",
        "\n",
        "        x = x_new\n",
        "\n",
        "    return x, np.array(history)"
      ],
      "metadata": {
        "id": "DUKS9w7bs6cO"
      },
      "execution_count": 2,
      "outputs": []
    },
    {
      "cell_type": "markdown",
      "source": [
        "### 3.- Método Fletcher-Reeves"
      ],
      "metadata": {
        "id": "U724VPqktEl2"
      }
    },
    {
      "cell_type": "code",
      "source": [
        "def fletcher_reeves(f, grad_f, x0, max_iter=1000, tol=1e-6):\n",
        "    x = x0.copy()\n",
        "    g = grad_f(x)\n",
        "    d = -g\n",
        "    history = [x0.copy()]\n",
        "\n",
        "    for k in range(max_iter):\n",
        "        alpha = 0.01\n",
        "        x_new = x + alpha * d\n",
        "        g_new = grad_f(x_new)\n",
        "\n",
        "        # Cálculo de beta (Fletcher-Reeves)\n",
        "        beta = np.dot(g_new, g_new) / np.dot(g, g)\n",
        "\n",
        "        d_new = -g_new + beta * d\n",
        "\n",
        "        history.append(x_new.copy())\n",
        "\n",
        "        if np.linalg.norm(x_new - x) < tol:\n",
        "            break\n",
        "\n",
        "        x = x_new\n",
        "        g = g_new\n",
        "        d = d_new\n",
        "\n",
        "    return x, np.array(history)"
      ],
      "metadata": {
        "id": "KyXkWNlFtKe-"
      },
      "execution_count": 4,
      "outputs": []
    },
    {
      "cell_type": "markdown",
      "source": [
        "Usamos el mismo ejemplo para los 3 métodos"
      ],
      "metadata": {
        "id": "rJiGXgkStZNf"
      }
    },
    {
      "cell_type": "code",
      "source": [
        "# Función cuadrática de ejemplo: f(x) = x^2 + y^2\n",
        "def f(x):\n",
        "    return x[0]**2 + x[1]**2\n",
        "\n",
        "def grad_f(x):\n",
        "    return np.array([2*x[0], 2*x[1]])\n",
        "\n",
        "def hess_f(x):\n",
        "    return np.array([[2, 0], [0, 2]])\n",
        "\n",
        "# Punto inicial\n",
        "x0 = np.array([5.0, 3.0])\n",
        "\n",
        "# Métodos\n",
        "x_nesterov, hist_nesterov = descenso_acelerado(f, grad_f, x0)\n",
        "x_fr, hist_fr = fletcher_reeves(f, grad_f, x0)\n",
        "x_newton, hist_newton = metodo_newton(f, grad_f, hess_f, x0)\n",
        "\n",
        "print(\"Descenso Acelerado:\", x_nesterov)\n",
        "print(\"Fletcher-Reeves:\", x_fr)\n",
        "print(\"Newton:\", x_newton)"
      ],
      "metadata": {
        "colab": {
          "base_uri": "https://localhost:8080/"
        },
        "id": "kbUlOeWhtYJu",
        "outputId": "274390c3-57d3-443b-da16-c70fbb5a0a28"
      },
      "execution_count": 5,
      "outputs": [
        {
          "output_type": "stream",
          "name": "stdout",
          "text": [
            "Mínimo encontrado:\n",
            "Descenso Acelerado: [0.00063149 0.0003789 ]\n",
            "Fletcher-Reeves: [5.70726134e-06 3.42435681e-06]\n",
            "Newton: [0. 0.]\n"
          ]
        }
      ]
    }
  ]
}